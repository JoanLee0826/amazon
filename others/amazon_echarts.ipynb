{
 "cells": [
  {
   "cell_type": "code",
   "execution_count": 1,
   "metadata": {
    "pycharm": {
     "is_executing": false
    }
   },
   "outputs": [],
   "source": [
    "import numpy as np\n",
    "import re\n",
    "import pandas as pd\n",
    "from pyecharts import charts as chas\n",
    "from pyecharts import options as opts"
   ]
  },
  {
   "cell_type": "code",
   "execution_count": 5,
   "metadata": {
    "pycharm": {
     "is_executing": false
    }
   },
   "outputs": [
    {
     "data": {
      "text/plain": "<pyecharts.render.display.HTML at 0x1e91ace8080>",
      "text/html": "\n<script>\n    require.config({\n        paths: {\n            'echarts':'https://assets.pyecharts.org/assets/echarts.min'\n        }\n    });\n</script>\n\n        <div id=\"51508c45da194c02bc629c6787349169\" style=\"width:900px; height:500px;\"></div>\n\n<script>\n        require(['echarts'], function(echarts) {\n                var chart_51508c45da194c02bc629c6787349169 = echarts.init(\n                    document.getElementById('51508c45da194c02bc629c6787349169'), 'white', {renderer: 'canvas'});\n                var option_51508c45da194c02bc629c6787349169 = {\n    \"animation\": true,\n    \"animationThreshold\": 2000,\n    \"animationDuration\": 1000,\n    \"animationEasing\": \"cubicOut\",\n    \"animationDelay\": 0,\n    \"animationDurationUpdate\": 300,\n    \"animationEasingUpdate\": \"cubicOut\",\n    \"animationDelayUpdate\": 0,\n    \"color\": [\n        \"#c23531\",\n        \"#2f4554\",\n        \"#61a0a8\",\n        \"#d48265\",\n        \"#749f83\",\n        \"#ca8622\",\n        \"#bda29a\",\n        \"#6e7074\",\n        \"#546570\",\n        \"#c4ccd3\",\n        \"#f05b72\",\n        \"#ef5b9c\",\n        \"#f47920\",\n        \"#905a3d\",\n        \"#fab27b\",\n        \"#2a5caa\",\n        \"#444693\",\n        \"#726930\",\n        \"#b2d235\",\n        \"#6d8346\",\n        \"#ac6767\",\n        \"#1d953f\",\n        \"#6950a1\",\n        \"#918597\"\n    ],\n    \"series\": [\n        {\n            \"type\": \"bar\",\n            \"name\": \"\\u9884\\u6d4b\\u9500\\u91cf\",\n            \"data\": [\n                2121.0,\n                2066.0,\n                1697.0,\n                1545.0,\n                1404.0,\n                1270.0,\n                1070.0,\n                1067.0,\n                978.0,\n                862.0,\n                831.0,\n                811.0,\n                746.0,\n                731.0,\n                706.0,\n                692.0,\n                678.0,\n                647.0,\n                598.0,\n                598.0,\n                592.0,\n                552.0,\n                483.0,\n                481.0,\n                470.0,\n                446.0,\n                417.0,\n                402.0,\n                387.0,\n                382.0,\n                375.0,\n                358.0,\n                343.0,\n                320.0,\n                306.0,\n                301.0,\n                267.0,\n                267.0,\n                262.0,\n                242.0,\n                236.0,\n                217.0,\n                211.0,\n                200.0,\n                197.0,\n                177.0,\n                168.0,\n                156.0,\n                141.0,\n                128.0,\n                127.0,\n                101.0,\n                66.0,\n                21.0,\n                1.0,\n                1.0\n            ],\n            \"barCategoryGap\": \"20%\",\n            \"label\": {\n                \"show\": false,\n                \"position\": \"top\",\n                \"margin\": 8\n            }\n        }\n    ],\n    \"legend\": [\n        {\n            \"data\": [\n                \"\\u9884\\u6d4b\\u9500\\u91cf\"\n            ],\n            \"selected\": {\n                \"\\u9884\\u6d4b\\u9500\\u91cf\": true\n            },\n            \"show\": true\n        }\n    ],\n    \"tooltip\": {\n        \"show\": true,\n        \"trigger\": \"item\",\n        \"triggerOn\": \"mousemove|click\",\n        \"axisPointer\": {\n            \"type\": \"line\"\n        },\n        \"textStyle\": {\n            \"fontSize\": 14\n        },\n        \"borderWidth\": 0\n    },\n    \"xAxis\": [\n        {\n            \"show\": true,\n            \"scale\": false,\n            \"nameLocation\": \"end\",\n            \"nameGap\": 15,\n            \"gridIndex\": 0,\n            \"inverse\": false,\n            \"offset\": 0,\n            \"splitNumber\": 5,\n            \"minInterval\": 0,\n            \"splitLine\": {\n                \"show\": false,\n                \"lineStyle\": {\n                    \"width\": 1,\n                    \"opacity\": 1,\n                    \"curveness\": 0,\n                    \"type\": \"solid\"\n                }\n            },\n            \"data\": [\n                \"B0141QO1Q2\",\n                \"B015QHYHZU\",\n                \"B0739P2W7K\",\n                \"B00026W5UK\",\n                \"B07NZSK3YB\",\n                \"B07GBN4Y3X\",\n                \"B07H969CFQ\",\n                \"B003XLASY6\",\n                \"B07VDRLQT9\",\n                \"B07DXZVWJ6\",\n                \"B07MXWLRR7\",\n                \"B07B4N415L\",\n                \"B07HNWVN76\",\n                \"B07FRWFCYT\",\n                \"B07D1L27RJ\",\n                \"B07R6MFP5K\",\n                \"B01GBRJ6YG\",\n                \"B07D7WPHQG\",\n                \"B078NQFYJZ\",\n                \"B07BQLZWPW\",\n                \"B07K6JR18T\",\n                \"B07PVR31DH\",\n                \"B002SV7ZS4\",\n                \"B07N136FPF\",\n                \"B0716WJDB9\",\n                \"B004960FOW\",\n                \"B00171QRC6\",\n                \"B07MCM2YJ6\",\n                \"B07RBLYKST\",\n                \"B07W711K7W\",\n                \"B073RY5X6M\",\n                \"B01FRGD3ZU\",\n                \"B07GD88VJW\",\n                \"B005CB5TE4\",\n                \"B00012NUZ4\",\n                \"B07PGDDNYL\",\n                \"B07VXWCSM6\",\n                \"B07DHM6ZXR\",\n                \"B005CB5TK8\",\n                \"B07L42K2GD\",\n                \"B07L4GKN14\",\n                \"B07NNFS71Q\",\n                \"B07R4729WN\",\n                \"B07GSVJ2B4\",\n                \"B07FY61N7B\",\n                \"B07FS3LKTM\",\n                \"B07P455MNS\",\n                \"B07WWHTB23\",\n                \"B07L7HT523\",\n                \"B011QKJBA2\",\n                \"B003DRR3MU\",\n                \"B07JMC4HH9\",\n                \"B07DDFGTJ2\",\n                \"B07Y5DHYBD\",\n                \"B07CNZN1SN\",\n                \"B07D2645H3\"\n            ]\n        }\n    ],\n    \"yAxis\": [\n        {\n            \"show\": true,\n            \"scale\": false,\n            \"nameLocation\": \"end\",\n            \"nameGap\": 15,\n            \"gridIndex\": 0,\n            \"inverse\": false,\n            \"offset\": 0,\n            \"splitNumber\": 5,\n            \"minInterval\": 0,\n            \"splitLine\": {\n                \"show\": false,\n                \"lineStyle\": {\n                    \"width\": 1,\n                    \"opacity\": 1,\n                    \"curveness\": 0,\n                    \"type\": \"solid\"\n                }\n            }\n        }\n    ],\n    \"title\": [\n        {\n            \"text\": \"\\u9500\\u91cf\\u9884\\u6d4b\"\n        }\n    ],\n    \"toolbox\": {\n        \"show\": true,\n        \"orient\": \"horizontal\",\n        \"itemSize\": 15,\n        \"itemGap\": 10,\n        \"left\": \"80%\",\n        \"feature\": {\n            \"saveAsImage\": {\n                \"show\": true,\n                \"title\": \"save as image\",\n                \"type\": \"png\"\n            },\n            \"restore\": {\n                \"show\": true,\n                \"title\": \"restore\"\n            },\n            \"dataView\": {\n                \"show\": true,\n                \"title\": \"data view\",\n                \"readOnly\": false\n            },\n            \"dataZoom\": {\n                \"show\": true,\n                \"title\": {\n                    \"zoom\": \"data zoom\",\n                    \"back\": \"data zoom restore\"\n                }\n            }\n        }\n    },\n    \"dataZoom\": {\n        \"show\": true,\n        \"type\": \"slider\",\n        \"realtime\": true,\n        \"start\": 20,\n        \"end\": 80,\n        \"orient\": \"horizontal\",\n        \"zoomLock\": false\n    }\n};\n                chart_51508c45da194c02bc629c6787349169.setOption(option_51508c45da194c02bc629c6787349169);\n        });\n    </script>\n"
     },
     "metadata": {},
     "output_type": "execute_result",
     "execution_count": 5
    }
   ],
   "source": [
    "file_path = r'E:\\爬虫pycharm\\data\\goods_detail\\10231420_with_ad.xlsx'\n",
    "data_df = pd.DataFrame(pd.read_excel(file_path))\n",
    "data_df.dropna(subset=['sales_est'], inplace=True)\n",
    "data_df.sort_values(by=['sales_est'], inplace=True, ascending=False)\n",
    "data_bar = (\n",
    "    chas.Bar()\n",
    "    .add_xaxis(data_df['ASIN'].tolist())\n",
    "    .add_yaxis(\"预测销量\", data_df['sales_est'].tolist(), label_opts=opts.LabelOpts(is_show=False))\n",
    "    .set_global_opts(\n",
    "        title_opts=opts.TitleOpts(title='销量预测'),\n",
    "        legend_opts=opts.LegendOpts(is_show=True),\n",
    "        toolbox_opts=opts.ToolboxOpts(),\n",
    "        datazoom_opts=opts.DataZoomOpts(),   \n",
    "    )\n",
    ")\n",
    "data_bar.render_notebook()"
   ]
  },
  {
   "cell_type": "code",
   "execution_count": 6,
   "metadata": {
    "pycharm": {
     "is_executing": false
    }
   },
   "outputs": [],
   "source": [
    "def money_change(strr):\n",
    "    if strr:\n",
    "        try:\n",
    "            money_ = float(strr.replace(',','').strip('$'))\n",
    "        except:\n",
    "            money_ = None\n",
    "    if re.search(strr, '-'):\n",
    "        try:\n",
    "            strr_1, strr_2 = strr.split('-')\n",
    "            money_ = np.mean(float(strr_1.replace(',','').strip('$'), float(strr_2.replace(',','').strip('$'))))\n",
    "        except:\n",
    "            money_ = None\n",
    "    return money_"
   ]
  },
  {
   "cell_type": "code",
   "execution_count": 158,
   "metadata": {},
   "outputs": [
    {
     "data": {
      "text/plain": [
       "[('0-15', 14),\n",
       " ('15-20', 14),\n",
       " ('20-25', 10),\n",
       " ('25-30', 8),\n",
       " ('30-35', 4),\n",
       " ('35-40', 4),\n",
       " ('40-100', 2)]"
      ]
     },
     "execution_count": 158,
     "metadata": {},
     "output_type": "execute_result"
    }
   ],
   "source": [
    "price = data_df['goods_price'].map(money_change)\n",
    "price_bins = [0, 15, 20, 25, 30, 35, 40, 100]\n",
    "bins_values = pd.cut(price, bins=price_bins).value_counts()\n",
    "e_bin_list = [(str(price_bins[m]) + '-' + str(price_bins[m+1]), n) for m,n in zip(range(len(price_bins)), bins_values.tolist())]\n",
    "e_bin_list"
   ]
  },
  {
   "cell_type": "code",
   "execution_count": 4,
   "metadata": {
    "pycharm": {
     "is_executing": false
    }
   },
   "outputs": [
    {
     "traceback": [
      "\u001b[1;31m---------------------------------------------------------------------------\u001b[0m",
      "\u001b[1;31mNameError\u001b[0m                                 Traceback (most recent call last)",
      "\u001b[1;32m<ipython-input-4-58eb3ef6a395>\u001b[0m in \u001b[0;36m<module>\u001b[1;34m\u001b[0m\n\u001b[0;32m      2\u001b[0m     \u001b[0mchas\u001b[0m\u001b[1;33m.\u001b[0m\u001b[0mPie\u001b[0m\u001b[1;33m(\u001b[0m\u001b[1;33m)\u001b[0m\u001b[1;33m\u001b[0m\u001b[1;33m\u001b[0m\u001b[0m\n\u001b[0;32m      3\u001b[0m     .add(\"价格区间\", \n\u001b[1;32m----> 4\u001b[1;33m          \u001b[0me_bin_list\u001b[0m\u001b[1;33m,\u001b[0m\u001b[1;33m\u001b[0m\u001b[1;33m\u001b[0m\u001b[0m\n\u001b[0m\u001b[0;32m      5\u001b[0m          \u001b[0mcenter\u001b[0m\u001b[1;33m=\u001b[0m\u001b[1;33m[\u001b[0m\u001b[1;34m'50%'\u001b[0m\u001b[1;33m,\u001b[0m \u001b[1;34m'50%'\u001b[0m\u001b[1;33m]\u001b[0m\u001b[1;33m,\u001b[0m\u001b[1;33m\u001b[0m\u001b[1;33m\u001b[0m\u001b[0m\n\u001b[0;32m      6\u001b[0m          \u001b[0mradius\u001b[0m\u001b[1;33m=\u001b[0m\u001b[1;33m[\u001b[0m\u001b[1;34m'30%'\u001b[0m\u001b[1;33m,\u001b[0m\u001b[1;34m'75%'\u001b[0m\u001b[1;33m]\u001b[0m\u001b[1;33m,\u001b[0m\u001b[1;33m\u001b[0m\u001b[1;33m\u001b[0m\u001b[0m\n",
      "\u001b[1;31mNameError\u001b[0m: name 'e_bin_list' is not defined"
     ],
     "ename": "NameError",
     "evalue": "name 'e_bin_list' is not defined",
     "output_type": "error"
    }
   ],
   "source": [
    "data_pie  = (\n",
    "    chas.Pie()\n",
    "    .add(\"价格区间\", \n",
    "         e_bin_list,\n",
    "         center=['50%', '50%'],\n",
    "         radius=['30%','75%'],\n",
    "         rosetype='area',\n",
    "         label_opts=opts.LabelOpts(is_show=True, formatter='价格区间{b}：共{c}个，占{d}%')\n",
    "     )\n",
    "    .set_global_opts(\n",
    "        legend_opts=opts.LegendOpts(is_show=True),\n",
    "    )\n",
    ")\n",
    "data_pie.render_notebook()"
   ]
  }
 ],
 "metadata": {
  "kernelspec": {
   "display_name": "Python [conda env:phebi] *",
   "language": "python",
   "name": "conda-env-phebi-py"
  },
  "language_info": {
   "codemirror_mode": {
    "name": "ipython",
    "version": 3
   },
   "file_extension": ".py",
   "mimetype": "text/x-python",
   "name": "python",
   "nbconvert_exporter": "python",
   "pygments_lexer": "ipython3",
   "version": "3.7.3"
  }
 },
 "nbformat": 4,
 "nbformat_minor": 2
}